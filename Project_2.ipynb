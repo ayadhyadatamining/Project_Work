{
 "cells": [
  {
   "cell_type": "markdown",
   "id": "2a744bce",
   "metadata": {},
   "source": [
    "# Running Sum of 1D Array"
   ]
  },
  {
   "cell_type": "code",
   "execution_count": 1,
   "id": "0f65c22d",
   "metadata": {},
   "outputs": [
    {
     "name": "stdout",
     "output_type": "stream",
     "text": [
      "[8, 11, 17, 19, 20, 24, 29]\n"
     ]
    }
   ],
   "source": [
    "def solve(prices):\n",
    "   n=len(nums)\n",
    "   rs=[nums[0]]\n",
    "\n",
    "   for i in range(1,n):\n",
    "      nums[i]+=nums[i-1]\n",
    "      rs.append(nums[i])\n",
    "   return rs\n",
    "\n",
    "nums = [8,3,6,2,1,4,5]\n",
    "print(solve(nums))"
   ]
  },
  {
   "cell_type": "markdown",
   "id": "f66025db",
   "metadata": {},
   "source": [
    "# Shuffle The Array"
   ]
  },
  {
   "cell_type": "code",
   "execution_count": 2,
   "id": "f42227b9",
   "metadata": {},
   "outputs": [
    {
     "name": "stdout",
     "output_type": "stream",
     "text": [
      "Original array:  [1 2 3 4 5 6]\n",
      "Shuffled array:  [3 5 2 6 1 4]\n"
     ]
    }
   ],
   "source": [
    "# Import required module\n",
    "import numpy as np\n",
    "\n",
    "# Assign array\n",
    "arr = np.array([1, 2, 3, 4, 5, 6])\n",
    "\n",
    "# Display original array\n",
    "print(\"Original array: \", arr)\n",
    "\n",
    "# Shuffle array\n",
    "np.random.shuffle(arr)\n",
    "\n",
    "# Display shuffled array\n",
    "print(\"Shuffled array: \", arr)"
   ]
  },
  {
   "cell_type": "code",
   "execution_count": 3,
   "id": "500c688a",
   "metadata": {},
   "outputs": [
    {
     "name": "stdout",
     "output_type": "stream",
     "text": [
      "Original array:  [1 2 3 4 5 6]\n",
      "Shuffled array:  [1 6 5 3 4 2]\n"
     ]
    }
   ],
   "source": [
    "# Import required module\n",
    "import random\n",
    "import array\n",
    "\n",
    "# Assign array\n",
    "arr = np.array([1, 2, 3, 4, 5, 6])\n",
    "\n",
    "# Display original array\n",
    "print(\"Original array: \", arr)\n",
    "\n",
    "# Shuffle array\n",
    "random.shuffle(arr)\n",
    "\n",
    "# Display shuffled array\n",
    "print(\"Shuffled array: \", arr)"
   ]
  },
  {
   "cell_type": "markdown",
   "id": "cd3b73d8",
   "metadata": {},
   "source": [
    "# Kids With the Greatest Number of Candies"
   ]
  },
  {
   "cell_type": "code",
   "execution_count": 5,
   "id": "5515e8ca",
   "metadata": {},
   "outputs": [],
   "source": [
    "candies = [2,3,5,1,3]\n",
    "extraCandies = 3"
   ]
  },
  {
   "cell_type": "code",
   "execution_count": 11,
   "id": "f959979c",
   "metadata": {},
   "outputs": [],
   "source": [
    "class Solution:\n",
    "    def kidsWithCandies(self, candies, extraCandies):\n",
    "        l=len(candies)\n",
    "        ans=[]\n",
    "        for i in range(l):\n",
    "            if candies[i]+extraCandies >= max(candies):\n",
    "                ans.append(True)\n",
    "        else:\n",
    "            ans.append(False)\n",
    "        return ans"
   ]
  },
  {
   "cell_type": "code",
   "execution_count": 12,
   "id": "d4f44319",
   "metadata": {},
   "outputs": [
    {
     "ename": "NameError",
     "evalue": "name 'List' is not defined",
     "output_type": "error",
     "traceback": [
      "\u001b[1;31m---------------------------------------------------------------------------\u001b[0m",
      "\u001b[1;31mNameError\u001b[0m                                 Traceback (most recent call last)",
      "Input \u001b[1;32mIn [12]\u001b[0m, in \u001b[0;36m<cell line: 1>\u001b[1;34m()\u001b[0m\n\u001b[1;32m----> 1\u001b[0m \u001b[38;5;28;01mclass\u001b[39;00m \u001b[38;5;21;01mSolution\u001b[39;00m:\n\u001b[0;32m      2\u001b[0m     \u001b[38;5;28;01mdef\u001b[39;00m \u001b[38;5;21mkidsWithCandies\u001b[39m(\u001b[38;5;28mself\u001b[39m, candies: List[\u001b[38;5;28mint\u001b[39m], extraCandies: \u001b[38;5;28mint\u001b[39m) \u001b[38;5;241m-\u001b[39m\u001b[38;5;241m>\u001b[39m List[\u001b[38;5;28mbool\u001b[39m]:\n\u001b[0;32m      3\u001b[0m         max_candy \u001b[38;5;241m=\u001b[39m \u001b[38;5;241m-\u001b[39m\u001b[38;5;241m1\u001b[39m\n",
      "Input \u001b[1;32mIn [12]\u001b[0m, in \u001b[0;36mSolution\u001b[1;34m()\u001b[0m\n\u001b[0;32m      1\u001b[0m \u001b[38;5;28;01mclass\u001b[39;00m \u001b[38;5;21;01mSolution\u001b[39;00m:\n\u001b[1;32m----> 2\u001b[0m     \u001b[38;5;28;01mdef\u001b[39;00m \u001b[38;5;21mkidsWithCandies\u001b[39m(\u001b[38;5;28mself\u001b[39m, candies: \u001b[43mList\u001b[49m[\u001b[38;5;28mint\u001b[39m], extraCandies: \u001b[38;5;28mint\u001b[39m) \u001b[38;5;241m-\u001b[39m\u001b[38;5;241m>\u001b[39m List[\u001b[38;5;28mbool\u001b[39m]:\n\u001b[0;32m      3\u001b[0m         max_candy \u001b[38;5;241m=\u001b[39m \u001b[38;5;241m-\u001b[39m\u001b[38;5;241m1\u001b[39m\n\u001b[0;32m      5\u001b[0m         \u001b[38;5;28;01mfor\u001b[39;00m candy \u001b[38;5;129;01min\u001b[39;00m candies:\n",
      "\u001b[1;31mNameError\u001b[0m: name 'List' is not defined"
     ]
    }
   ],
   "source": [
    "class Solution:\n",
    "    def kidsWithCandies(self, candies: List[int], extraCandies: int) -> List[bool]:\n",
    "        max_candy = -1\n",
    "        \n",
    "        for candy in candies:\n",
    "            if candy > max_candy:\n",
    "                max_candy = candy\n",
    "                \n",
    "        results = []\n",
    "        \n",
    "        for candy in candies:\n",
    "            if candy + extraCandies >= max_candy:\n",
    "                results.append(True)\n",
    "            else:\n",
    "                results.append(False)\n",
    "                \n",
    "        return results"
   ]
  },
  {
   "cell_type": "code",
   "execution_count": null,
   "id": "54158dc9",
   "metadata": {},
   "outputs": [],
   "source": []
  }
 ],
 "metadata": {
  "kernelspec": {
   "display_name": "Python 3 (ipykernel)",
   "language": "python",
   "name": "python3"
  },
  "language_info": {
   "codemirror_mode": {
    "name": "ipython",
    "version": 3
   },
   "file_extension": ".py",
   "mimetype": "text/x-python",
   "name": "python",
   "nbconvert_exporter": "python",
   "pygments_lexer": "ipython3",
   "version": "3.8.8"
  }
 },
 "nbformat": 4,
 "nbformat_minor": 5
}
